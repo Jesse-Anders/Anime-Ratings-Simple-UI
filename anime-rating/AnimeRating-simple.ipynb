{
 "cells": [
  {
   "cell_type": "markdown",
   "metadata": {},
   "source": [
    "# Simplified Anime Rating Model"
   ]
  },
  {
   "cell_type": "markdown",
   "metadata": {
    "id": "ZzsW_RNeuNEx"
   },
   "source": [
    "### Import necessary libraries"
   ]
  },
  {
   "cell_type": "code",
   "execution_count": 3,
   "metadata": {},
   "outputs": [],
   "source": [
    "# Libraries to help with reading and manipulating data\n",
    "import numpy as np\n",
    "import pandas as pd\n",
    "\n",
    "# Libraries to help with data visualization\n",
    "import matplotlib.pyplot as plt\n",
    "import seaborn as sns\n",
    "\n",
    "sns.set()\n",
    "\n",
    "# Removes the limit for the number of displayed columns\n",
    "pd.set_option(\"display.max_columns\", None)\n",
    "# Sets the limit for the number of displayed rows\n",
    "pd.set_option(\"display.max_rows\", 200)\n",
    "\n",
    "# to split the data into train and test\n",
    "from sklearn.model_selection import train_test_split\n",
    "\n",
    "# to build linear regression_model\n",
    "from sklearn.linear_model import LinearRegression\n",
    "\n",
    "# to check model performance\n",
    "from sklearn.metrics import mean_absolute_error, mean_squared_error, r2_score"
   ]
  },
  {
   "cell_type": "code",
   "execution_count": 4,
   "metadata": {
    "id": "STzpWgWu9WJZ"
   },
   "outputs": [],
   "source": [
    "# loading the dataset\n",
    "# import the reviews into a dataframe - use your directory\n",
    "import pandas as pd\n",
    "df = pd.read_csv('Data/anime_data.csv')"
   ]
  },
  {
   "cell_type": "code",
   "execution_count": 5,
   "metadata": {},
   "outputs": [],
   "source": [
    "# Drop title feature\n",
    "df.drop(['title'], axis=1, inplace=True)"
   ]
  },
  {
   "cell_type": "code",
   "execution_count": 6,
   "metadata": {},
   "outputs": [],
   "source": [
    "# Drop description feature\n",
    "df.drop(['description'], axis=1, inplace=True)"
   ]
  },
  {
   "cell_type": "markdown",
   "metadata": {},
   "source": [
    "Duration data is heavily skewed right. Will leave outliers for now and imput nulls as median."
   ]
  },
  {
   "cell_type": "code",
   "execution_count": 8,
   "metadata": {},
   "outputs": [],
   "source": [
    "# IMPUTE NULLS AS MEDIAN VALUE\n",
    "def impute_median(df, column):\n",
    "    # Check if the column contains only numeric data\n",
    "    if pd.api.types.is_numeric_dtype(df[column]):\n",
    "        # Calculate the median of the column, ignoring NaNs\n",
    "        median = df[column].median()\n",
    "        \n",
    "        # Count the number of nulls in the column before imputation\n",
    "        null_count_before = df[column].isnull().sum()\n",
    "        \n",
    "        # Impute the median value for all null values in the column\n",
    "        df[column].fillna(median, inplace=True)\n",
    "        \n",
    "        # Print the number of nulls imputed and the median value used\n",
    "        if null_count_before > 0:\n",
    "            print(f\"Column '{column}': Imputed {null_count_before} nulls with median value {median}.\")\n",
    "        else:\n",
    "            print(f\"Skipped. No nulls to impute in: {column}\")\n",
    "    else:\n",
    "        # Print the name of the column that was skipped because it's not numeric\n",
    "        print(f\"Skipped non-numeric column: {column}\")\n",
    "    \n",
    "    return df\n",
    "\n",
    "# Example usage\n",
    "# df = impute_median(df, 'COLUMN_TO_IMPUTE')\n"
   ]
  },
  {
   "cell_type": "code",
   "execution_count": 9,
   "metadata": {},
   "outputs": [
    {
     "name": "stdout",
     "output_type": "stream",
     "text": [
      "Column 'duration': Imputed 4636 nulls with median value 8.0.\n"
     ]
    }
   ],
   "source": [
    "# Call function to impute using median\n",
    "df = impute_median(df, 'duration')"
   ]
  },
  {
   "cell_type": "code",
   "execution_count": 10,
   "metadata": {},
   "outputs": [],
   "source": [
    "# Replace is_missing with TV\n",
    "df['mediaType'] = df['mediaType'].replace('is_missing', 'TV')\n",
    "# Drop ongoing feature\n",
    "df.drop(['ongoing'], axis=1, inplace=True)"
   ]
  },
  {
   "cell_type": "code",
   "execution_count": 11,
   "metadata": {},
   "outputs": [],
   "source": [
    "# Sort Rating to be First Column\n",
    "column_name = 'rating'  # Replace 'your_column_name_here' with the actual column name\n",
    "columns = [column_name] + [col for col in df.columns if col != column_name]\n",
    "df = df[columns]"
   ]
  },
  {
   "cell_type": "code",
   "execution_count": 12,
   "metadata": {},
   "outputs": [
    {
     "name": "stdout",
     "output_type": "stream",
     "text": [
      "['rating', 'mediaType', 'eps', 'duration', 'sznOfRelease', 'years_running', 'studio_primary', 'studios_colab', 'contentWarn', 'watched', 'watching', 'wantWatch', 'dropped', 'votes']\n"
     ]
    }
   ],
   "source": [
    "# creating a list of non-tag columns\n",
    "corr_cols = [item for item in df.columns if \"tag\" not in item]\n",
    "print(corr_cols)"
   ]
  },
  {
   "cell_type": "markdown",
   "metadata": {},
   "source": [
    "#### Encode Features 'mediaType', 'sznOfRelease', and 'studio_primary'"
   ]
  },
  {
   "cell_type": "code",
   "execution_count": 14,
   "metadata": {},
   "outputs": [],
   "source": [
    "# Initialize a global dictionary to store mappings for each encoded column\n",
    "column_mappings = {}\n",
    "\n",
    "# Encode Categorical Features\n",
    "def encode_column(df, column_name, drop_orig_columns=False):\n",
    "    global column_mappings  # Reference the global dictionary\n",
    "    \n",
    "    # Check if the column exists in the DataFrame\n",
    "    if column_name not in df.columns:\n",
    "        print(f\"Column '{column_name}' not found in DataFrame. Skipping...\")\n",
    "        return df\n",
    "    \n",
    "    # Get unique values and sort them to ensure consistent mapping\n",
    "    unique_values = sorted(df[column_name].unique())\n",
    "    \n",
    "    # Create a mapping dictionary from unique value to an integer code\n",
    "    mapping_dict = {val: idx for idx, val in enumerate(unique_values)}\n",
    "    \n",
    "    # Create the encoded column name\n",
    "    encoded_column_name = f'encoded_{column_name}'\n",
    "    \n",
    "    # Apply the mapping to create a new encoded column\n",
    "    df[encoded_column_name] = df[column_name].replace(mapping_dict)\n",
    "    \n",
    "    # Drop the original column\n",
    "    if drop_orig_columns == True:\n",
    "        df.drop(columns=[column_name], inplace=True)\n",
    "    \n",
    "    # Store the mapping using the encoded column name as a reference\n",
    "    column_mappings[encoded_column_name] = mapping_dict\n",
    "\n",
    "    print(f\"Created encoded_{column}\")\n",
    "    print(f\"Encoded as {column_mappings[encoded_column_name]}\")\n",
    "    print()\n",
    "\n",
    "    return df\n",
    "\n",
    "# Example usage\n",
    "# Assuming 'df' is your DataFrame and 'column_to_encode' is the column you want to encode\n",
    "# df = encode_column(df, 'education_level')\n",
    "# print(column_mappings['education_level'])  # Access the stored mapping\n"
   ]
  },
  {
   "cell_type": "code",
   "execution_count": 15,
   "metadata": {},
   "outputs": [
    {
     "name": "stdout",
     "output_type": "stream",
     "text": [
      "Created encoded_mediaType\n",
      "Encoded as {'DVD Special': 0, 'Movie': 1, 'Music Video': 2, 'OVA': 3, 'Other': 4, 'TV': 5, 'TV Special': 6, 'Web': 7}\n",
      "\n",
      "Created encoded_sznOfRelease\n",
      "Encoded as {'Fall': 0, 'Spring': 1, 'Summer': 2, 'Winter': 3, 'is_missing': 4}\n",
      "\n",
      "Created encoded_studio_primary\n",
      "Encoded as {'A-1 Pictures': 0, 'AIC': 1, 'Bones': 2, 'DLE': 3, 'GONZO': 4, 'J.C. Staff': 5, 'Kyoto Animation': 6, 'MADHOUSE': 7, 'Nippon Animation': 8, 'OLM': 9, 'Others': 10, 'Production I.G': 11, 'Shaft': 12, 'Shin-Ei Animation': 13, 'Studio Deen': 14, 'Studio Pierrot': 15, 'Sunrise': 16, 'TMS Entertainment': 17, 'Tatsunoko Production': 18, 'Toei Animation': 19, 'XEBEC': 20, 'is_missing': 21}\n",
      "\n"
     ]
    }
   ],
   "source": [
    "# Create list of columns to encode\n",
    "Encode_Categorical_Features = ['mediaType', 'sznOfRelease', 'studio_primary']\n",
    "\n",
    "# Run Encode Function\n",
    "for column in Encode_Categorical_Features:\n",
    "    df = encode_column(df, column, drop_orig_columns=True)"
   ]
  },
  {
   "cell_type": "code",
   "execution_count": 64,
   "metadata": {},
   "outputs": [
    {
     "data": {
      "text/html": [
       "<div>\n",
       "<style scoped>\n",
       "    .dataframe tbody tr th:only-of-type {\n",
       "        vertical-align: middle;\n",
       "    }\n",
       "\n",
       "    .dataframe tbody tr th {\n",
       "        vertical-align: top;\n",
       "    }\n",
       "\n",
       "    .dataframe thead th {\n",
       "        text-align: right;\n",
       "    }\n",
       "</style>\n",
       "<table border=\"1\" class=\"dataframe\">\n",
       "  <thead>\n",
       "    <tr style=\"text-align: right;\">\n",
       "      <th></th>\n",
       "      <th>rating</th>\n",
       "      <th>eps</th>\n",
       "      <th>duration</th>\n",
       "      <th>years_running</th>\n",
       "      <th>studios_colab</th>\n",
       "      <th>contentWarn</th>\n",
       "      <th>watched</th>\n",
       "      <th>watching</th>\n",
       "      <th>wantWatch</th>\n",
       "      <th>dropped</th>\n",
       "      <th>votes</th>\n",
       "      <th>tag_Based_on_a_Manga</th>\n",
       "      <th>tag_Comedy</th>\n",
       "      <th>tag_Action</th>\n",
       "      <th>tag_Fantasy</th>\n",
       "      <th>tag_Sci_Fi</th>\n",
       "      <th>tag_Shounen</th>\n",
       "      <th>tag_Original_Work</th>\n",
       "      <th>tag_Non_Human_Protagonists</th>\n",
       "      <th>tag_Drama</th>\n",
       "      <th>tag_Adventure</th>\n",
       "      <th>tag_Family_Friendly</th>\n",
       "      <th>tag_Short_Episodes</th>\n",
       "      <th>tag_School_Life</th>\n",
       "      <th>tag_Romance</th>\n",
       "      <th>tag_Shorts</th>\n",
       "      <th>tag_Slice_of_Life</th>\n",
       "      <th>tag_Seinen</th>\n",
       "      <th>tag_Supernatural</th>\n",
       "      <th>tag_Magic</th>\n",
       "      <th>tag_Animal_Protagonists</th>\n",
       "      <th>tag_Ecchi</th>\n",
       "      <th>tag_Mecha</th>\n",
       "      <th>tag_Based_on_a_Light_Novel</th>\n",
       "      <th>tag_CG_Animation</th>\n",
       "      <th>tag_Superpowers</th>\n",
       "      <th>tag_Others</th>\n",
       "      <th>tag_missing</th>\n",
       "      <th>encoded_mediaType</th>\n",
       "      <th>encoded_sznOfRelease</th>\n",
       "      <th>encoded_studio_primary</th>\n",
       "    </tr>\n",
       "  </thead>\n",
       "  <tbody>\n",
       "    <tr>\n",
       "      <th>0</th>\n",
       "      <td>4.702</td>\n",
       "      <td>64</td>\n",
       "      <td>8.0</td>\n",
       "      <td>1</td>\n",
       "      <td>0</td>\n",
       "      <td>1</td>\n",
       "      <td>103707.0</td>\n",
       "      <td>14351</td>\n",
       "      <td>25810</td>\n",
       "      <td>2656</td>\n",
       "      <td>86547</td>\n",
       "      <td>1</td>\n",
       "      <td>0</td>\n",
       "      <td>1</td>\n",
       "      <td>1</td>\n",
       "      <td>0</td>\n",
       "      <td>1</td>\n",
       "      <td>0</td>\n",
       "      <td>0</td>\n",
       "      <td>1</td>\n",
       "      <td>1</td>\n",
       "      <td>0</td>\n",
       "      <td>0</td>\n",
       "      <td>0</td>\n",
       "      <td>0</td>\n",
       "      <td>0</td>\n",
       "      <td>0</td>\n",
       "      <td>0</td>\n",
       "      <td>0</td>\n",
       "      <td>0</td>\n",
       "      <td>0</td>\n",
       "      <td>0</td>\n",
       "      <td>0</td>\n",
       "      <td>0</td>\n",
       "      <td>0</td>\n",
       "      <td>0</td>\n",
       "      <td>0</td>\n",
       "      <td>0</td>\n",
       "      <td>5</td>\n",
       "      <td>1</td>\n",
       "      <td>2</td>\n",
       "    </tr>\n",
       "    <tr>\n",
       "      <th>1</th>\n",
       "      <td>4.663</td>\n",
       "      <td>1</td>\n",
       "      <td>107.0</td>\n",
       "      <td>0</td>\n",
       "      <td>0</td>\n",
       "      <td>0</td>\n",
       "      <td>58831.0</td>\n",
       "      <td>1453</td>\n",
       "      <td>21733</td>\n",
       "      <td>124</td>\n",
       "      <td>43960</td>\n",
       "      <td>0</td>\n",
       "      <td>0</td>\n",
       "      <td>0</td>\n",
       "      <td>0</td>\n",
       "      <td>0</td>\n",
       "      <td>0</td>\n",
       "      <td>1</td>\n",
       "      <td>0</td>\n",
       "      <td>1</td>\n",
       "      <td>0</td>\n",
       "      <td>0</td>\n",
       "      <td>0</td>\n",
       "      <td>1</td>\n",
       "      <td>1</td>\n",
       "      <td>0</td>\n",
       "      <td>0</td>\n",
       "      <td>0</td>\n",
       "      <td>1</td>\n",
       "      <td>0</td>\n",
       "      <td>0</td>\n",
       "      <td>0</td>\n",
       "      <td>0</td>\n",
       "      <td>0</td>\n",
       "      <td>0</td>\n",
       "      <td>0</td>\n",
       "      <td>0</td>\n",
       "      <td>0</td>\n",
       "      <td>1</td>\n",
       "      <td>4</td>\n",
       "      <td>10</td>\n",
       "    </tr>\n",
       "    <tr>\n",
       "      <th>2</th>\n",
       "      <td>4.661</td>\n",
       "      <td>1</td>\n",
       "      <td>130.0</td>\n",
       "      <td>0</td>\n",
       "      <td>0</td>\n",
       "      <td>1</td>\n",
       "      <td>45892.0</td>\n",
       "      <td>946</td>\n",
       "      <td>17148</td>\n",
       "      <td>132</td>\n",
       "      <td>33752</td>\n",
       "      <td>1</td>\n",
       "      <td>0</td>\n",
       "      <td>0</td>\n",
       "      <td>0</td>\n",
       "      <td>0</td>\n",
       "      <td>1</td>\n",
       "      <td>0</td>\n",
       "      <td>0</td>\n",
       "      <td>1</td>\n",
       "      <td>0</td>\n",
       "      <td>0</td>\n",
       "      <td>0</td>\n",
       "      <td>1</td>\n",
       "      <td>0</td>\n",
       "      <td>0</td>\n",
       "      <td>0</td>\n",
       "      <td>0</td>\n",
       "      <td>0</td>\n",
       "      <td>0</td>\n",
       "      <td>0</td>\n",
       "      <td>0</td>\n",
       "      <td>0</td>\n",
       "      <td>0</td>\n",
       "      <td>0</td>\n",
       "      <td>0</td>\n",
       "      <td>0</td>\n",
       "      <td>0</td>\n",
       "      <td>1</td>\n",
       "      <td>4</td>\n",
       "      <td>6</td>\n",
       "    </tr>\n",
       "    <tr>\n",
       "      <th>3</th>\n",
       "      <td>4.660</td>\n",
       "      <td>10</td>\n",
       "      <td>8.0</td>\n",
       "      <td>0</td>\n",
       "      <td>0</td>\n",
       "      <td>0</td>\n",
       "      <td>25134.0</td>\n",
       "      <td>2183</td>\n",
       "      <td>8082</td>\n",
       "      <td>167</td>\n",
       "      <td>17422</td>\n",
       "      <td>1</td>\n",
       "      <td>0</td>\n",
       "      <td>0</td>\n",
       "      <td>0</td>\n",
       "      <td>0</td>\n",
       "      <td>1</td>\n",
       "      <td>0</td>\n",
       "      <td>0</td>\n",
       "      <td>0</td>\n",
       "      <td>0</td>\n",
       "      <td>0</td>\n",
       "      <td>0</td>\n",
       "      <td>1</td>\n",
       "      <td>0</td>\n",
       "      <td>0</td>\n",
       "      <td>0</td>\n",
       "      <td>0</td>\n",
       "      <td>0</td>\n",
       "      <td>0</td>\n",
       "      <td>0</td>\n",
       "      <td>0</td>\n",
       "      <td>0</td>\n",
       "      <td>0</td>\n",
       "      <td>0</td>\n",
       "      <td>0</td>\n",
       "      <td>0</td>\n",
       "      <td>0</td>\n",
       "      <td>5</td>\n",
       "      <td>0</td>\n",
       "      <td>11</td>\n",
       "    </tr>\n",
       "    <tr>\n",
       "      <th>4</th>\n",
       "      <td>4.650</td>\n",
       "      <td>10</td>\n",
       "      <td>8.0</td>\n",
       "      <td>0</td>\n",
       "      <td>0</td>\n",
       "      <td>1</td>\n",
       "      <td>21308.0</td>\n",
       "      <td>3217</td>\n",
       "      <td>7864</td>\n",
       "      <td>174</td>\n",
       "      <td>15789</td>\n",
       "      <td>1</td>\n",
       "      <td>0</td>\n",
       "      <td>1</td>\n",
       "      <td>1</td>\n",
       "      <td>0</td>\n",
       "      <td>1</td>\n",
       "      <td>0</td>\n",
       "      <td>0</td>\n",
       "      <td>0</td>\n",
       "      <td>0</td>\n",
       "      <td>0</td>\n",
       "      <td>0</td>\n",
       "      <td>0</td>\n",
       "      <td>0</td>\n",
       "      <td>0</td>\n",
       "      <td>0</td>\n",
       "      <td>0</td>\n",
       "      <td>0</td>\n",
       "      <td>0</td>\n",
       "      <td>0</td>\n",
       "      <td>0</td>\n",
       "      <td>0</td>\n",
       "      <td>0</td>\n",
       "      <td>0</td>\n",
       "      <td>0</td>\n",
       "      <td>0</td>\n",
       "      <td>0</td>\n",
       "      <td>5</td>\n",
       "      <td>1</td>\n",
       "      <td>10</td>\n",
       "    </tr>\n",
       "  </tbody>\n",
       "</table>\n",
       "</div>"
      ],
      "text/plain": [
       "   rating  eps  duration  years_running  studios_colab  contentWarn   watched  \\\n",
       "0   4.702   64       8.0              1              0            1  103707.0   \n",
       "1   4.663    1     107.0              0              0            0   58831.0   \n",
       "2   4.661    1     130.0              0              0            1   45892.0   \n",
       "3   4.660   10       8.0              0              0            0   25134.0   \n",
       "4   4.650   10       8.0              0              0            1   21308.0   \n",
       "\n",
       "   watching  wantWatch  dropped  votes  tag_Based_on_a_Manga  tag_Comedy  \\\n",
       "0     14351      25810     2656  86547                     1           0   \n",
       "1      1453      21733      124  43960                     0           0   \n",
       "2       946      17148      132  33752                     1           0   \n",
       "3      2183       8082      167  17422                     1           0   \n",
       "4      3217       7864      174  15789                     1           0   \n",
       "\n",
       "   tag_Action  tag_Fantasy  tag_Sci_Fi  tag_Shounen  tag_Original_Work  \\\n",
       "0           1            1           0            1                  0   \n",
       "1           0            0           0            0                  1   \n",
       "2           0            0           0            1                  0   \n",
       "3           0            0           0            1                  0   \n",
       "4           1            1           0            1                  0   \n",
       "\n",
       "   tag_Non_Human_Protagonists  tag_Drama  tag_Adventure  tag_Family_Friendly  \\\n",
       "0                           0          1              1                    0   \n",
       "1                           0          1              0                    0   \n",
       "2                           0          1              0                    0   \n",
       "3                           0          0              0                    0   \n",
       "4                           0          0              0                    0   \n",
       "\n",
       "   tag_Short_Episodes  tag_School_Life  tag_Romance  tag_Shorts  \\\n",
       "0                   0                0            0           0   \n",
       "1                   0                1            1           0   \n",
       "2                   0                1            0           0   \n",
       "3                   0                1            0           0   \n",
       "4                   0                0            0           0   \n",
       "\n",
       "   tag_Slice_of_Life  tag_Seinen  tag_Supernatural  tag_Magic  \\\n",
       "0                  0           0                 0          0   \n",
       "1                  0           0                 1          0   \n",
       "2                  0           0                 0          0   \n",
       "3                  0           0                 0          0   \n",
       "4                  0           0                 0          0   \n",
       "\n",
       "   tag_Animal_Protagonists  tag_Ecchi  tag_Mecha  tag_Based_on_a_Light_Novel  \\\n",
       "0                        0          0          0                           0   \n",
       "1                        0          0          0                           0   \n",
       "2                        0          0          0                           0   \n",
       "3                        0          0          0                           0   \n",
       "4                        0          0          0                           0   \n",
       "\n",
       "   tag_CG_Animation  tag_Superpowers  tag_Others  tag_missing  \\\n",
       "0                 0                0           0            0   \n",
       "1                 0                0           0            0   \n",
       "2                 0                0           0            0   \n",
       "3                 0                0           0            0   \n",
       "4                 0                0           0            0   \n",
       "\n",
       "   encoded_mediaType  encoded_sznOfRelease  encoded_studio_primary  \n",
       "0                  5                     1                       2  \n",
       "1                  1                     4                      10  \n",
       "2                  1                     4                       6  \n",
       "3                  5                     0                      11  \n",
       "4                  5                     1                      10  "
      ]
     },
     "execution_count": 64,
     "metadata": {},
     "output_type": "execute_result"
    }
   ],
   "source": [
    "df.head()"
   ]
  },
  {
   "cell_type": "markdown",
   "metadata": {},
   "source": [
    "## Model Building"
   ]
  },
  {
   "cell_type": "markdown",
   "metadata": {},
   "source": [
    "### Define independent and dependent variables"
   ]
  },
  {
   "cell_type": "code",
   "execution_count": 18,
   "metadata": {},
   "outputs": [],
   "source": [
    "X = df.drop([\"rating\"], axis=1)\n",
    "y = df[\"rating\"]"
   ]
  },
  {
   "cell_type": "code",
   "execution_count": 19,
   "metadata": {},
   "outputs": [
    {
     "data": {
      "text/plain": [
       "(12101, 40)"
      ]
     },
     "execution_count": 19,
     "metadata": {},
     "output_type": "execute_result"
    }
   ],
   "source": [
    "X.shape"
   ]
  },
  {
   "cell_type": "markdown",
   "metadata": {},
   "source": [
    "### Split the data into train and test"
   ]
  },
  {
   "cell_type": "code",
   "execution_count": 21,
   "metadata": {},
   "outputs": [],
   "source": [
    "# splitting the data in 70:30 ratio for train to test data\n",
    "\n",
    "x_train, x_test, y_train, y_test = train_test_split(X, y, test_size=0.3, random_state=1)"
   ]
  },
  {
   "cell_type": "code",
   "execution_count": 22,
   "metadata": {},
   "outputs": [
    {
     "name": "stdout",
     "output_type": "stream",
     "text": [
      "Number of rows in train data = 8470\n",
      "Number of rows in test data = 3631\n"
     ]
    }
   ],
   "source": [
    "print(\"Number of rows in train data =\", x_train.shape[0])\n",
    "print(\"Number of rows in test data =\", x_test.shape[0])"
   ]
  },
  {
   "cell_type": "markdown",
   "metadata": {},
   "source": [
    "### Fitting a linear model"
   ]
  },
  {
   "cell_type": "code",
   "execution_count": 41,
   "metadata": {},
   "outputs": [
    {
     "data": {
      "text/html": [
       "<style>#sk-container-id-2 {color: black;background-color: white;}#sk-container-id-2 pre{padding: 0;}#sk-container-id-2 div.sk-toggleable {background-color: white;}#sk-container-id-2 label.sk-toggleable__label {cursor: pointer;display: block;width: 100%;margin-bottom: 0;padding: 0.3em;box-sizing: border-box;text-align: center;}#sk-container-id-2 label.sk-toggleable__label-arrow:before {content: \"▸\";float: left;margin-right: 0.25em;color: #696969;}#sk-container-id-2 label.sk-toggleable__label-arrow:hover:before {color: black;}#sk-container-id-2 div.sk-estimator:hover label.sk-toggleable__label-arrow:before {color: black;}#sk-container-id-2 div.sk-toggleable__content {max-height: 0;max-width: 0;overflow: hidden;text-align: left;background-color: #f0f8ff;}#sk-container-id-2 div.sk-toggleable__content pre {margin: 0.2em;color: black;border-radius: 0.25em;background-color: #f0f8ff;}#sk-container-id-2 input.sk-toggleable__control:checked~div.sk-toggleable__content {max-height: 200px;max-width: 100%;overflow: auto;}#sk-container-id-2 input.sk-toggleable__control:checked~label.sk-toggleable__label-arrow:before {content: \"▾\";}#sk-container-id-2 div.sk-estimator input.sk-toggleable__control:checked~label.sk-toggleable__label {background-color: #d4ebff;}#sk-container-id-2 div.sk-label input.sk-toggleable__control:checked~label.sk-toggleable__label {background-color: #d4ebff;}#sk-container-id-2 input.sk-hidden--visually {border: 0;clip: rect(1px 1px 1px 1px);clip: rect(1px, 1px, 1px, 1px);height: 1px;margin: -1px;overflow: hidden;padding: 0;position: absolute;width: 1px;}#sk-container-id-2 div.sk-estimator {font-family: monospace;background-color: #f0f8ff;border: 1px dotted black;border-radius: 0.25em;box-sizing: border-box;margin-bottom: 0.5em;}#sk-container-id-2 div.sk-estimator:hover {background-color: #d4ebff;}#sk-container-id-2 div.sk-parallel-item::after {content: \"\";width: 100%;border-bottom: 1px solid gray;flex-grow: 1;}#sk-container-id-2 div.sk-label:hover label.sk-toggleable__label {background-color: #d4ebff;}#sk-container-id-2 div.sk-serial::before {content: \"\";position: absolute;border-left: 1px solid gray;box-sizing: border-box;top: 0;bottom: 0;left: 50%;z-index: 0;}#sk-container-id-2 div.sk-serial {display: flex;flex-direction: column;align-items: center;background-color: white;padding-right: 0.2em;padding-left: 0.2em;position: relative;}#sk-container-id-2 div.sk-item {position: relative;z-index: 1;}#sk-container-id-2 div.sk-parallel {display: flex;align-items: stretch;justify-content: center;background-color: white;position: relative;}#sk-container-id-2 div.sk-item::before, #sk-container-id-2 div.sk-parallel-item::before {content: \"\";position: absolute;border-left: 1px solid gray;box-sizing: border-box;top: 0;bottom: 0;left: 50%;z-index: -1;}#sk-container-id-2 div.sk-parallel-item {display: flex;flex-direction: column;z-index: 1;position: relative;background-color: white;}#sk-container-id-2 div.sk-parallel-item:first-child::after {align-self: flex-end;width: 50%;}#sk-container-id-2 div.sk-parallel-item:last-child::after {align-self: flex-start;width: 50%;}#sk-container-id-2 div.sk-parallel-item:only-child::after {width: 0;}#sk-container-id-2 div.sk-dashed-wrapped {border: 1px dashed gray;margin: 0 0.4em 0.5em 0.4em;box-sizing: border-box;padding-bottom: 0.4em;background-color: white;}#sk-container-id-2 div.sk-label label {font-family: monospace;font-weight: bold;display: inline-block;line-height: 1.2em;}#sk-container-id-2 div.sk-label-container {text-align: center;}#sk-container-id-2 div.sk-container {/* jupyter's `normalize.less` sets `[hidden] { display: none; }` but bootstrap.min.css set `[hidden] { display: none !important; }` so we also need the `!important` here to be able to override the default hidden behavior on the sphinx rendered scikit-learn.org. See: https://github.com/scikit-learn/scikit-learn/issues/21755 */display: inline-block !important;position: relative;}#sk-container-id-2 div.sk-text-repr-fallback {display: none;}</style><div id=\"sk-container-id-2\" class=\"sk-top-container\"><div class=\"sk-text-repr-fallback\"><pre>LinearRegression()</pre><b>In a Jupyter environment, please rerun this cell to show the HTML representation or trust the notebook. <br />On GitHub, the HTML representation is unable to render, please try loading this page with nbviewer.org.</b></div><div class=\"sk-container\" hidden><div class=\"sk-item\"><div class=\"sk-estimator sk-toggleable\"><input class=\"sk-toggleable__control sk-hidden--visually\" id=\"sk-estimator-id-2\" type=\"checkbox\" checked><label for=\"sk-estimator-id-2\" class=\"sk-toggleable__label sk-toggleable__label-arrow\">LinearRegression</label><div class=\"sk-toggleable__content\"><pre>LinearRegression()</pre></div></div></div></div></div>"
      ],
      "text/plain": [
       "LinearRegression()"
      ]
     },
     "execution_count": 41,
     "metadata": {},
     "output_type": "execute_result"
    }
   ],
   "source": [
    "lin_reg_model = LinearRegression()\n",
    "lin_reg_model.fit(x_train, y_train)"
   ]
  },
  {
   "cell_type": "code",
   "execution_count": 45,
   "metadata": {},
   "outputs": [
    {
     "data": {
      "text/plain": [
       "['anime_model.joblib']"
      ]
     },
     "execution_count": 45,
     "metadata": {},
     "output_type": "execute_result"
    }
   ],
   "source": [
    "import joblib\n",
    "joblib.dump(lin_reg_model, 'anime_model.joblib')"
   ]
  },
  {
   "cell_type": "code",
   "execution_count": null,
   "metadata": {},
   "outputs": [],
   "source": []
  }
 ],
 "metadata": {
  "colab": {
   "collapsed_sections": [],
   "name": "final_MLS_case_study_WHO.ipynb",
   "provenance": []
  },
  "kernelspec": {
   "display_name": "Python 3 (ipykernel)",
   "language": "python",
   "name": "python3"
  },
  "language_info": {
   "codemirror_mode": {
    "name": "ipython",
    "version": 3
   },
   "file_extension": ".py",
   "mimetype": "text/x-python",
   "name": "python",
   "nbconvert_exporter": "python",
   "pygments_lexer": "ipython3",
   "version": "3.11.7"
  },
  "toc": {
   "base_numbering": 1,
   "nav_menu": {},
   "number_sections": true,
   "sideBar": true,
   "skip_h1_title": false,
   "title_cell": "Table of Contents",
   "title_sidebar": "Contents",
   "toc_cell": false,
   "toc_position": {},
   "toc_section_display": true,
   "toc_window_display": false
  }
 },
 "nbformat": 4,
 "nbformat_minor": 4
}
